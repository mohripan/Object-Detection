{
  "nbformat": 4,
  "nbformat_minor": 0,
  "metadata": {
    "colab": {
      "name": "IOU.ipynb",
      "provenance": [],
      "collapsed_sections": [],
      "authorship_tag": "ABX9TyO6q9XmOeJ8uVCEyY6vq1NL",
      "include_colab_link": true
    },
    "kernelspec": {
      "name": "python3",
      "display_name": "Python 3"
    },
    "language_info": {
      "name": "python"
    }
  },
  "cells": [
    {
      "cell_type": "markdown",
      "metadata": {
        "id": "view-in-github",
        "colab_type": "text"
      },
      "source": [
        "<a href=\"https://colab.research.google.com/github/mohripan/Object-Detection/blob/main/IOU.ipynb\" target=\"_parent\"><img src=\"https://colab.research.google.com/assets/colab-badge.svg\" alt=\"Open In Colab\"/></a>"
      ]
    },
    {
      "cell_type": "code",
      "execution_count": 1,
      "metadata": {
        "id": "TFzv6cuc5IE9"
      },
      "outputs": [],
      "source": [
        "import torch"
      ]
    },
    {
      "cell_type": "code",
      "source": [
        "def intersection_over_union(boxes_preds, boxes_labels, box_format=\"midpoint\"):\n",
        "  \"\"\"\n",
        "  Calculate intersection over union\n",
        "\n",
        "  Parameters:\n",
        "    boxes_preds (tensor): Predictions of Bounding Boxes (BATCH_SIZE, 4)\n",
        "    boxes_labels (tensor): Correct labels of Bounding Boxes (BATCH_SIZE, 4)\n",
        "    Box_format (str): midpoint/corners, if boxes (x, y, w, h) or (x1, y1, x2, y2)\n",
        "\n",
        "  Returns:\n",
        "    tensor: Intersection over union for all examples\n",
        "  \"\"\"\n",
        "\n",
        "  if box_format == 'midpoint':\n",
        "    box1_x1 = boxes_preds[..., 0:1] - boxes_preds[..., 2:3] / 2\n",
        "    box1_y1 = boxes_preds[..., 1:2] - boxes_preds[..., 3:4] / 2\n",
        "    box1_x2 = boxes_preds[..., 0:1] + boxes_preds[..., 2:3] / 2\n",
        "    box1_y2 = boxes_preds[..., 1:2] + boxes_preds[..., 3:4] / 2\n",
        "\n",
        "    box2_x1 = boxes_labels[..., 0:1] - boxes_labels[..., 2:3] / 2\n",
        "    box2_y1 = boxes_labels[..., 1:2] - boxes_labels[..., 3:4] / 2\n",
        "    box2_x2 = boxes_labels[..., 0:1] + boxes_labels[..., 2:3] / 2\n",
        "    box2_y2 = boxes_labels[..., 1:2] + boxes_labels[..., 3:4] / 2\n",
        "\n",
        "  elif box_format == 'corners':\n",
        "    box1_x1 = boxes_preds[..., 0:1]\n",
        "    box1_y1 = boxes_preds[..., 1:2]\n",
        "    box1_x2 = boxes_preds[..., 2:3]\n",
        "    box1_y2 = boxes_preds[..., 3:4]\n",
        "\n",
        "    box2_x1 = boxes_labels[..., 0:1]\n",
        "    box2_y1 = boxes_labels[..., 1:2]\n",
        "    box2_x2 = boxes_labels[..., 2:3]\n",
        "    box2_y2 = boxes_labels[..., 3:4]\n",
        "\n",
        "  x1 = torch.max(box1_x1, box2_x1)\n",
        "  y1 = torch.max(box1_y1, box2_y1)\n",
        "  x2 = torch.min(box1_x2, box2_x2)\n",
        "  y2 = torch.min(box1_y2, box2_y2)\n",
        "\n",
        "  intersection = (x2-x1).clamp(0) * (y2-y1).clamp(0)\n",
        "\n",
        "  box1_area = abs((box1_x2 - box1_x1) * (box1_y2 - box1_y1))\n",
        "  box2_area = abs((box2_x2 - box2_x1) * (box2_y2 - box2_y1))\n",
        "\n",
        "  return intersection / (box1_area + box2_area - intersection + 1e-6)"
      ],
      "metadata": {
        "id": "jDrEz1js5Ka6"
      },
      "execution_count": 2,
      "outputs": []
    }
  ]
}